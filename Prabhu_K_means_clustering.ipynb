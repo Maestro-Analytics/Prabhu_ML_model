{
 "cells": [
  {
   "cell_type": "markdown",
   "id": "e33a589a-7466-42af-983c-c0cb40535304",
   "metadata": {},
   "source": [
    "# **PROBLEM STATEMENT**\n",
    "## Banks face challenges in understanding and segmenting their customer base effectively, leading to generalized marketing efforts that lack personalization and relevance. This results in lower engagement and conversion rates as products and services may not meet specific customer needs. Additionally, without clear segmentation, banks struggle to optimize resource allocation and service delivery channels, potentially causing inefficiencies and customer dissatisfaction. "
   ]
  },
  {
   "cell_type": "markdown",
   "id": "a9724ac1-f0db-4f85-9f19-9949e1fe38cf",
   "metadata": {},
   "source": [
    "# **Analytics Solution**\n",
    "## The possible solution might be using K-means clustering to segment customers based on financial behaviors, aiding in targeted marketing and personalized service offerings. This enables better understanding of customer needs, optimizing resource allocation and improving overall customer satisfaction and retention."
   ]
  },
  {
   "cell_type": "markdown",
   "id": "6f363c2f-adc0-42ff-b08d-e8293354709f",
   "metadata": {},
   "source": [
    "# Data Used"
   ]
  },
  {
   "cell_type": "code",
   "execution_count": 2,
   "id": "e6f75bb9-f9af-4d16-808e-63eeebbe6374",
   "metadata": {},
   "outputs": [
    {
     "name": "stderr",
     "output_type": "stream",
     "text": [
      "                                                                                \r"
     ]
    }
   ],
   "source": [
    " df = spark.read.parquet('hdfs://localhost:9000/ingest/ml_dataset/gsa_lam_demo_int_table')"
   ]
  },
  {
   "cell_type": "code",
   "execution_count": 3,
   "id": "cb45f2b9-97b0-45cb-a760-241f426769c4",
   "metadata": {},
   "outputs": [
    {
     "name": "stderr",
     "output_type": "stream",
     "text": [
      "24/06/24 04:34:48 WARN util.package: Truncated the string representation of a plan since it was too large. This behavior can be adjusted by setting 'spark.sql.debug.maxToStringFields'.\n"
     ]
    },
    {
     "name": "stdout",
     "output_type": "stream",
     "text": [
      "+---------+----------------+-----------+---------+-----+----------------+---------------+---------------+--------+------+---------+---------+--------------+--------------------+-------------+-------------+----------------+-------------+--------+--------------+--------------------+-----------------+----------+----------------+---------+---------------+----------------+------+----------------+--------------------+---------+----------+---------+--------------+-------+---------+-------------------------+---------------------------+------------+--------------------+--------------------+----------+----------+------+--------------------+---------+----------+-------------+-------------+--------------+-----------------+-------------+--------------------+--------------------+------------------------+--------------------+-------------------+---------------+----------------------------+------------------+--------------------+--------------+--------------------+--------------------+------------------------+------------------------+-------------------+-------------------+---------------------+---------------------+--------------------+--------------------+--------------------+--------------------+---------------------+---------------------+--------------------------+--------------------------+-------------------------+-------------------------+-------------------+-------------------+---------------------+---------------------+-------------+---------+------------+----------------+------------+--------------------+---------------------+-------------+--------------+---------+\n",
      "|     acid|  entity_cre_flg|acct_prefix| acct_num|bacid|         foracid|      acct_name|acct_short_name| cust_id|emp_id|   cif_id|schm_code|     schm_desc|       acct_opn_date|acct_cls_date|  clr_bal_amt|    acct_cls_flg|tot_mod_times|ledg_num|un_clr_bal_amt|inter_sol_access_flg|purge_allowed_flg|purge_text|acct_mgr_user_id|schm_type|partitioned_flg|partitioned_type|sol_id|         del_flg|            sol_desc|city_code|state_code|bank_code|extn_cntr_code|br_code|accountid|preferred_mobile_alert_no|preferred_mobile_alert_type|submitforkyc|      kyc_reviewdate|            kyc_date|riskrating|salutation|gender|            cust_dob|education|occupation|cust_language|demographicid|marital_status|employment_status|income_nature|annual_salary_income|annual_rental_income|annual_stock_bond_income|annual_others_income|annual_total_income|salotherincome2|selfempaverageannualturnover|totalhouseholdincm|       employersname|sourceofincome|accrued_upto_date_cr|accrued_upto_date_dr|last_accrual_run_date_cr|last_accrual_run_date_dr|booked_upto_date_cr|booked_upto_date_dr|last_book_run_date_cr|last_book_run_date_dr|book_for_rev_date_cr|book_for_rev_date_dr|last_book_cr_tran_id|last_book_dr_tran_id|last_book_cr_tan_date|last_book_dr_tan_date|interest_calc_upto_date_cr|interest_calc_upto_date_dr|last_interest_run_date_cr|last_interest_run_date_dr|last_int_cr_tran_id|last_int_dr_tran_id|last_int_cr_tran_date|last_int_dr_tran_date|interest_rate|oflow_amt|     dis_amt|      acct_state|lchg_user_id|           lchg_time|sum_principal_dmd_amt|bank_irr_rate|value_of_asset|eltm_txid|\n",
      "+---------+----------------+-----------+---------+-----+----------------+---------------+---------------+--------+------+---------+---------+--------------+--------------------+-------------+-------------+----------------+-------------+--------+--------------+--------------------+-----------------+----------+----------------+---------+---------------+----------------+------+----------------+--------------------+---------+----------+---------+--------------+-------+---------+-------------------------+---------------------------+------------+--------------------+--------------------+----------+----------+------+--------------------+---------+----------+-------------+-------------+--------------+-----------------+-------------+--------------------+--------------------+------------------------+--------------------+-------------------+---------------+----------------------------+------------------+--------------------+--------------+--------------------+--------------------+------------------------+------------------------+-------------------+-------------------+---------------------+---------------------+--------------------+--------------------+--------------------+--------------------+---------------------+---------------------+--------------------------+--------------------------+-------------------------+-------------------------+-------------------+-------------------+---------------------+---------------------+-------------+---------+------------+----------------+------------+--------------------+---------------------+-------------+--------------+---------+\n",
      "|PB2385720|Y               |         00|101386924| null|0010138692400028|SHANTI MAHARJAN|         SHANTI|01386924|  null|R01386924|    TLEDL|EDUCATION LOAN|2020-01-05 00:00:...|         null|-1417525.3500|N               |            0|       0|        0.0000|                null| Y               |      null|            null|      LAA|           null|            null|   001|N               |MAIN BRN, BABARMAHAL|      002|     PROV3|     2601|            00|    001|  1342378|           +9779841833000|                     CELLPH|           Y|2026-08-01 17:07:...|2021-08-01 17:07:...|       LOW|      MRS.|     F|1980-06-14 00:00:...|     null|     OTHER|       NEPALI|    1639502.0|             M|         Salaried|          001|            300000.0|                null|                    null|                null|          1500000.0|      1500000.0|                        null|              null|WOMAN FOR HUMAN R...|        SALARY| 2020-01-04 00:00:00| 2024-06-04 00:00:00|     2020-05-29 23:59:59|     2024-06-05 19:56:48|2020-01-04 00:00:00|2024-06-04 00:00:00|  2020-05-29 23:59:59|  2024-06-05 19:55:52| 2020-01-04 00:00:00| 2020-01-04 00:00:00|                null|              S57195|                 null|  2024-06-04 00:00:00|       2020-01-04 00:00:00|       2024-05-09 00:00:00|      2020-05-29 23:59:59|      2024-05-10 22:19:23|               null|            S314626|                 null|  2024-05-10 00:00:00|         -5.0|   0.0000|1756568.3200|C               |      SYSTEM|2024-05-18 22:37:...|          242073.8100|     0.000000|        0.0000|     5193|\n",
      "|PB2385720|Y               |         00|101386924| null|0010138692400028|SHANTI MAHARJAN|         SHANTI|01386924|  null|R01386924|    TLEDL|EDUCATION LOAN|2020-01-05 00:00:...|         null|-1417525.3500|N               |            0|       0|        0.0000|                null| Y               |      null|            null|      LAA|           null|            null|   001|N               |MAIN BRN, BABARMAHAL|      002|     PROV3|     2601|            00|    001|  1342378|           +9779841833000|                     CELLPH|           Y|2026-08-01 17:07:...|2021-08-01 17:07:...|       LOW|      MRS.|     F|1980-06-14 00:00:...|     null|     OTHER|       NEPALI|    1639502.0|             M|         Salaried|          001|            300000.0|                null|                    null|                null|          1500000.0|      1500000.0|                        null|              null|WOMAN FOR HUMAN R...|        SALARY| 2020-01-04 00:00:00| 2024-06-04 00:00:00|     2020-05-29 23:59:59|     2024-06-05 19:56:48|2020-01-04 00:00:00|2024-06-04 00:00:00|  2020-05-29 23:59:59|  2024-06-05 19:55:52| 2020-01-04 00:00:00| 2020-01-04 00:00:00|                null|              S57195|                 null|  2024-06-04 00:00:00|       2020-01-04 00:00:00|       2024-05-09 00:00:00|      2020-05-29 23:59:59|      2024-05-10 22:19:23|               null|            S314626|                 null|  2024-05-10 00:00:00|         -5.0|   0.0000|1756568.3200|C               |      SYSTEM|2024-05-18 22:37:...|          242073.8100|     0.000000|        0.0000|     5193|\n",
      "|PB2385720|Y               |         00|101386924| null|0010138692400028|SHANTI MAHARJAN|         SHANTI|01386924|  null|R01386924|    TLEDL|EDUCATION LOAN|2020-01-05 00:00:...|         null|-1417525.3500|N               |            0|       0|        0.0000|                null| Y               |      null|            null|      LAA|           null|            null|   001|N               |MAIN BRN, BABARMAHAL|      002|     PROV3|     2601|            00|    001|  1342378|           +9779841833000|                     CELLPH|           Y|2026-08-01 17:07:...|2021-08-01 17:07:...|       LOW|      MRS.|     F|1980-06-14 00:00:...|     null|     OTHER|       NEPALI|    1639502.0|             M|         Salaried|          001|            300000.0|                null|                    null|                null|          1500000.0|      1500000.0|                        null|              null|WOMAN FOR HUMAN R...|        SALARY| 2020-01-04 00:00:00| 2024-06-04 00:00:00|     2020-05-29 23:59:59|     2024-06-05 19:56:48|2020-01-04 00:00:00|2024-06-04 00:00:00|  2020-05-29 23:59:59|  2024-06-05 19:55:52| 2020-01-04 00:00:00| 2020-01-04 00:00:00|                null|              S57195|                 null|  2024-06-04 00:00:00|       2020-01-04 00:00:00|       2024-05-09 00:00:00|      2020-05-29 23:59:59|      2024-05-10 22:19:23|               null|            S314626|                 null|  2024-05-10 00:00:00|         -5.0|   0.0000|1756568.3200|C               |      SYSTEM|2024-05-18 22:37:...|          242073.8100|     0.000000|        0.0000|     5193|\n",
      "|PB2385720|Y               |         00|101386924| null|0010138692400028|SHANTI MAHARJAN|         SHANTI|01386924|  null|R01386924|    TLEDL|EDUCATION LOAN|2020-01-05 00:00:...|         null|-1417525.3500|N               |            0|       0|        0.0000|                null| Y               |      null|            null|      LAA|           null|            null|   001|N               |MAIN BRN, BABARMAHAL|      002|     PROV3|     2601|            00|    001|  1342378|           +9779841833000|                     CELLPH|           Y|2026-08-01 17:07:...|2021-08-01 17:07:...|       LOW|      MRS.|     F|1980-06-14 00:00:...|     null|     OTHER|       NEPALI|    1639502.0|             M|         Salaried|          001|            300000.0|                null|                    null|                null|          1500000.0|      1500000.0|                        null|              null|WOMAN FOR HUMAN R...|        SALARY| 2020-01-04 00:00:00| 2024-06-04 00:00:00|     2020-05-29 23:59:59|     2024-06-05 19:56:48|2020-01-04 00:00:00|2024-06-04 00:00:00|  2020-05-29 23:59:59|  2024-06-05 19:55:52| 2020-01-04 00:00:00| 2020-01-04 00:00:00|                null|              S57195|                 null|  2024-06-04 00:00:00|       2020-01-04 00:00:00|       2024-05-09 00:00:00|      2020-05-29 23:59:59|      2024-05-10 22:19:23|               null|            S314626|                 null|  2024-05-10 00:00:00|         -5.0|   0.0000|1756568.3200|C               |      SYSTEM|2024-05-18 22:37:...|          242073.8100|     0.000000|        0.0000|     5193|\n",
      "|PB2385720|Y               |         00|101386924| null|0010138692400028|SHANTI MAHARJAN|         SHANTI|01386924|  null|R01386924|    TLEDL|EDUCATION LOAN|2020-01-05 00:00:...|         null|-1417525.3500|N               |            0|       0|        0.0000|                null| Y               |      null|            null|      LAA|           null|            null|   001|N               |MAIN BRN, BABARMAHAL|      002|     PROV3|     2601|            00|    001|  1342378|           +9779841833000|                     CELLPH|           Y|2026-08-01 17:07:...|2021-08-01 17:07:...|       LOW|      MRS.|     F|1980-06-14 00:00:...|     null|     OTHER|       NEPALI|    1639502.0|             M|         Salaried|          001|            300000.0|                null|                    null|                null|          1500000.0|      1500000.0|                        null|              null|WOMAN FOR HUMAN R...|        SALARY| 2020-01-04 00:00:00| 2024-06-04 00:00:00|     2020-05-29 23:59:59|     2024-06-05 19:56:48|2020-01-04 00:00:00|2024-06-04 00:00:00|  2020-05-29 23:59:59|  2024-06-05 19:55:52| 2020-01-04 00:00:00| 2020-01-04 00:00:00|                null|              S57195|                 null|  2024-06-04 00:00:00|       2020-01-04 00:00:00|       2024-05-09 00:00:00|      2020-05-29 23:59:59|      2024-05-10 22:19:23|               null|            S314626|                 null|  2024-05-10 00:00:00|         -5.0|   0.0000|1756568.3200|C               |      SYSTEM|2024-01-17 22:11:...|          207729.6100|     0.000000|        0.0000|     5193|\n",
      "+---------+----------------+-----------+---------+-----+----------------+---------------+---------------+--------+------+---------+---------+--------------+--------------------+-------------+-------------+----------------+-------------+--------+--------------+--------------------+-----------------+----------+----------------+---------+---------------+----------------+------+----------------+--------------------+---------+----------+---------+--------------+-------+---------+-------------------------+---------------------------+------------+--------------------+--------------------+----------+----------+------+--------------------+---------+----------+-------------+-------------+--------------+-----------------+-------------+--------------------+--------------------+------------------------+--------------------+-------------------+---------------+----------------------------+------------------+--------------------+--------------+--------------------+--------------------+------------------------+------------------------+-------------------+-------------------+---------------------+---------------------+--------------------+--------------------+--------------------+--------------------+---------------------+---------------------+--------------------------+--------------------------+-------------------------+-------------------------+-------------------+-------------------+---------------------+---------------------+-------------+---------+------------+----------------+------------+--------------------+---------------------+-------------+--------------+---------+\n",
      "only showing top 5 rows\n",
      "\n"
     ]
    },
    {
     "name": "stderr",
     "output_type": "stream",
     "text": [
      "                                                                                \r"
     ]
    }
   ],
   "source": [
    "df.show(5)"
   ]
  },
  {
   "cell_type": "markdown",
   "id": "d77febbb-aae3-45de-b8cf-d1dd13ab26aa",
   "metadata": {},
   "source": [
    "# Exploratory Data Analysis(EDA)\n",
    "## 1. Feature Engineering"
   ]
  },
  {
   "cell_type": "code",
   "execution_count": 4,
   "id": "fa9bb547-bbf6-4d9f-a4af-be21db4bfe03",
   "metadata": {},
   "outputs": [],
   "source": [
    "# The gender column is "
   ]
  },
  {
   "cell_type": "code",
   "execution_count": 5,
   "id": "d0b30ee6-b390-4522-8696-d8e406e31d79",
   "metadata": {},
   "outputs": [
    {
     "name": "stderr",
     "output_type": "stream",
     "text": [
      "[Stage 2:================================================>        (34 + 6) / 40]\r"
     ]
    },
    {
     "name": "stdout",
     "output_type": "stream",
     "text": [
      "+------+------+\n",
      "|gender| count|\n",
      "+------+------+\n",
      "|     F|114272|\n",
      "|     M|206216|\n",
      "|     O|   192|\n",
      "+------+------+\n",
      "\n"
     ]
    },
    {
     "name": "stderr",
     "output_type": "stream",
     "text": [
      "                                                                                \r"
     ]
    }
   ],
   "source": [
    "data=df.groupby('gender').count()\n",
    "data.show()"
   ]
  },
  {
   "cell_type": "code",
   "execution_count": 6,
   "id": "be841ce5-35a3-43d7-a056-9332595106e6",
   "metadata": {},
   "outputs": [
    {
     "name": "stdout",
     "output_type": "stream",
     "text": [
      "+----------+------+\n",
      "|salutation| count|\n",
      "+----------+------+\n",
      "|       MS.| 10744|\n",
      "|      MRS.|103480|\n",
      "|      MISS|  1904|\n",
      "|       MR.|204496|\n",
      "|      MAST|    40|\n",
      "|       M/S|    16|\n",
      "+----------+------+\n",
      "\n"
     ]
    }
   ],
   "source": [
    "data=df.groupby('salutation').count()\n",
    "data.show()"
   ]
  },
  {
   "cell_type": "code",
   "execution_count": 7,
   "id": "a5185622-5819-48d8-85c4-0329d8adc06e",
   "metadata": {},
   "outputs": [
    {
     "name": "stdout",
     "output_type": "stream",
     "text": [
      "+-----------------+------+\n",
      "|employment_status| count|\n",
      "+-----------------+------+\n",
      "|         Employed|108008|\n",
      "|         Salaried| 67224|\n",
      "|            Other| 93336|\n",
      "|        Housewife| 28056|\n",
      "|          Retired|  5640|\n",
      "|       Unemployed| 18400|\n",
      "|             null|    16|\n",
      "+-----------------+------+\n",
      "\n"
     ]
    }
   ],
   "source": [
    "data=df.groupby('employment_status').count()\n",
    "data.show()"
   ]
  },
  {
   "cell_type": "code",
   "execution_count": 8,
   "id": "b505433f-7107-46c4-a39c-4026d15589ef",
   "metadata": {},
   "outputs": [],
   "source": [
    "from pyspark.sql import SparkSession\n",
    "from pyspark.sql.functions import when, col\n",
    "\n",
    "# Initialize Spark session\n",
    "spark = SparkSession.builder.appName(\"GenderUpdate\").getOrCreate()\n",
    "\n",
    "\n",
    "# Update gender based on salutation\n",
    "df = df.withColumn(\n",
    "    'gender',\n",
    "    when(col('salutation') == 'MR.', 'Male')\n",
    "    .when(col('salutation') == 'MRS.', 'Female')\n",
    "    .when(col('salutation') == 'MS.', 'Female')\n",
    "    .when(col('salutation') == 'MAST', 'Male')\n",
    "    .when(col('salutation') == 'MISS', 'Female')\n",
    "    .when(col('salutation') == 'M/S', 'org')\n",
    "    .otherwise(col('gender'))\n",
    ")\n",
    "\n",
    "# # Show the updated DataFrame\n",
    "# df.show()\n"
   ]
  },
  {
   "cell_type": "markdown",
   "id": "346ce399-155d-49fd-a920-48384c6c767c",
   "metadata": {},
   "source": [
    "### Calculate kyc_flag on the basis of kyc_date,whether it is null or not."
   ]
  },
  {
   "cell_type": "code",
   "execution_count": 9,
   "id": "d881de9d-b39b-4222-9b44-7fdb0b9e6725",
   "metadata": {},
   "outputs": [
    {
     "name": "stdout",
     "output_type": "stream",
     "text": [
      "+--------+\n",
      "|kyc_flag|\n",
      "+--------+\n",
      "|       1|\n",
      "|       1|\n",
      "|       1|\n",
      "|       1|\n",
      "|       1|\n",
      "|       1|\n",
      "|       1|\n",
      "|       1|\n",
      "|       1|\n",
      "|       1|\n",
      "|       1|\n",
      "|       1|\n",
      "|       1|\n",
      "|       1|\n",
      "|       1|\n",
      "|       1|\n",
      "|       1|\n",
      "|       1|\n",
      "|       1|\n",
      "|       1|\n",
      "+--------+\n",
      "only showing top 20 rows\n",
      "\n"
     ]
    }
   ],
   "source": [
    "from pyspark.sql.functions import when, col\n",
    "df = df.withColumn(\"kyc_flag\", when(col(\"kyc_date\").isNotNull(), 1).otherwise(0))\n",
    "df.select(\"kyc_flag\").show()"
   ]
  },
  {
   "cell_type": "markdown",
   "id": "69db801e-8f60-49e0-a8b7-320b583bb0f0",
   "metadata": {},
   "source": [
    "### Calculated age of customer on the basis of column cust_dob"
   ]
  },
  {
   "cell_type": "code",
   "execution_count": 10,
   "id": "2b8706fe-5ab5-458e-b49a-8e307f7f7ae4",
   "metadata": {},
   "outputs": [
    {
     "name": "stdout",
     "output_type": "stream",
     "text": [
      "+--------------------+--------+\n",
      "|            cust_dob|cust_age|\n",
      "+--------------------+--------+\n",
      "|1980-06-14 00:00:...|      44|\n",
      "|1980-06-14 00:00:...|      44|\n",
      "|1980-06-14 00:00:...|      44|\n",
      "|1980-06-14 00:00:...|      44|\n",
      "|1980-06-14 00:00:...|      44|\n",
      "|1980-06-14 00:00:...|      44|\n",
      "|1980-06-14 00:00:...|      44|\n",
      "|1980-06-14 00:00:...|      44|\n",
      "|1992-11-01 00:00:...|      31|\n",
      "|1992-11-01 00:00:...|      31|\n",
      "+--------------------+--------+\n",
      "only showing top 10 rows\n",
      "\n"
     ]
    }
   ],
   "source": [
    "from pyspark.sql.functions import col, current_date, datediff, floor\n",
    "\n",
    "# Calculate age\n",
    "df = df.withColumn('cust_age', floor(datediff(current_date(), col('cust_dob')) / 365.25))\n",
    "\n",
    "# Show the updated DataFrame\n",
    "df.select('cust_dob','cust_age').show(10)\n"
   ]
  },
  {
   "cell_type": "markdown",
   "id": "3f746a8e-4c83-46f1-bc5e-6a662c639aae",
   "metadata": {},
   "source": [
    "### Categorized the (occupation,schm_desc)column and keep top 10 priorities ,put left category into others.\n"
   ]
  },
  {
   "cell_type": "code",
   "execution_count": 11,
   "id": "5d36ae33-b90c-4df7-b89c-1dcd70278a10",
   "metadata": {},
   "outputs": [
    {
     "name": "stderr",
     "output_type": "stream",
     "text": [
      "[Stage 31:============================================>        (200 + 40) / 240]\r"
     ]
    },
    {
     "name": "stdout",
     "output_type": "stream",
     "text": [
      "+------------+-----------+\n",
      "|category_occ|total_count|\n",
      "+------------+-----------+\n",
      "|       SALPN|      67384|\n",
      "|        AGRI|      66424|\n",
      "|       BUSIN|      57104|\n",
      "|       OTHER|      54704|\n",
      "|        HMMK|      35272|\n",
      "|       SELFE|      22928|\n",
      "|       STUDT|       5104|\n",
      "|       RETIR|       5104|\n",
      "|       NARMY|       3728|\n",
      "|       FOREM|       2928|\n",
      "+------------+-----------+\n",
      "\n"
     ]
    },
    {
     "name": "stderr",
     "output_type": "stream",
     "text": [
      "                                                                                \r"
     ]
    }
   ],
   "source": [
    "from pyspark.sql import functions as F\n",
    "\n",
    "# Group by 'occupation' and count occurrences\n",
    "data = df.groupBy('occupation').count()\n",
    "\n",
    "# Order by count in descending order\n",
    "data = data.orderBy(F.desc('count'))\n",
    "\n",
    "# Get the top 10 categories\n",
    "top_10_categories = [row['occupation'] for row in data.limit(10).collect()]\n",
    "\n",
    "# Create a new column 'category_occ' with 'occupation' if it's in the top 10, otherwise mark as 'Other'\n",
    "data = data.withColumn('category_occ', F.when(F.col('occupation').isin(top_10_categories), F.col('occupation')).otherwise('OTHER'))\n",
    "\n",
    "# Group by 'category_occ' and sum counts\n",
    "grouped_data = data.groupBy('category_occ').agg(F.sum('count').alias('total_count'))\n",
    "\n",
    "# Combine null and \"Other\" categories\n",
    "combined_count = grouped_data.filter((F.col('category_occ').isNull()) | (F.col('category_occ') == 'OTHER')) \\\n",
    "                             .agg(F.sum('total_count').alias('total_count')).collect()[0]['total_count']\n",
    "\n",
    "# Filter out null and \"Other\" rows, then add a new row for the combined \"Other\" category\n",
    "grouped_data = grouped_data.filter(~((F.col('category_occ').isNull()) | (F.col('category_occ') == 'OTHER'))) \\\n",
    "                           .union(df.sql_ctx.createDataFrame([('OTHER', combined_count)], ['category_occ', 'total_count']))\n",
    "\n",
    "# Show the result\n",
    "grouped_data.orderBy(F.desc('total_count')).show(10)\n",
    "\n",
    "# Join the grouped_data with df, renaming the column to avoid ambiguity\n",
    "df = df.join(data.select('occupation', 'category_occ'), on='occupation', how='left') \\\n",
    "       .withColumnRenamed('category_occ', 'category_occ_type')\n",
    "\n",
    "# Replace null values with 'Other'\n",
    "df = df.withColumn('category_occ', F.when(F.col('category_occ_type').isNull(), 'OTHER').otherwise(F.col('category_occ_type')))\n",
    "\n",
    "# Drop the temporary 'category_occ_type' column if not needed\n",
    "df = df.drop('category_occ_type')\n",
    "\n",
    "# Show the modified df DataFrame\n",
    "#df.show()\n"
   ]
  },
  {
   "cell_type": "code",
   "execution_count": 12,
   "id": "0a21a155-6aa7-4d17-bbd8-6f89b7d3a9c6",
   "metadata": {},
   "outputs": [
    {
     "name": "stdout",
     "output_type": "stream",
     "text": [
      "+--------------------+-----------+\n",
      "|       category_schm|total_count|\n",
      "+--------------------+-----------+\n",
      "|LOAN AGAINST PROP...|      71520|\n",
      "|           HOME LOAN|      63824|\n",
      "|    LOAN AGAINST FDR|      37032|\n",
      "|      EDUCATION LOAN|      36176|\n",
      "|               Other|      34104|\n",
      "|  HIRE PURCHASE LOAN|      16784|\n",
      "|MF DIRECT LENDING-TL|      16760|\n",
      "|          OTHER LOAN|      13376|\n",
      "|STAFF HOUSING LOA...|      11176|\n",
      "|           AUTO LOAN|      10744|\n",
      "+--------------------+-----------+\n",
      "only showing top 10 rows\n",
      "\n"
     ]
    }
   ],
   "source": [
    "from pyspark.sql import functions as F\n",
    "\n",
    "# Group by 'schm_desc' and count occurrences\n",
    "data = df.groupBy('schm_desc').count()\n",
    "\n",
    "# Order by count in descending order\n",
    "data = data.orderBy(F.desc('count'))\n",
    "\n",
    "# Get the top 10 categories\n",
    "top_10_categories = [row['schm_desc'] for row in data.limit(10).collect()]\n",
    "\n",
    "# Create a new column 'category_schm_desc' with 'schm_desc' if it's in the top 10, otherwise mark as 'Other'\n",
    "data = data.withColumn('category_schm', F.when(F.col('schm_desc').isin(top_10_categories), F.col('schm_desc')).otherwise('Other'))\n",
    "\n",
    "# Group by 'category_schm_desc' and sum counts\n",
    "grouped_data = data.groupBy('category_schm').agg(F.sum('count').alias('total_count'))\n",
    "\n",
    "# Show the result\n",
    "grouped_data.orderBy(F.desc('total_count')).show(10)\n",
    "\n",
    "# Join the grouped_data with df\n",
    "df = df.join(data.select('schm_desc', 'category_schm'), on='schm_desc', how='left')\n",
    "\n",
    "# Show the modified df DataFrame\n",
    "# df.show()\n",
    "\n",
    "\n"
   ]
  },
  {
   "cell_type": "markdown",
   "id": "e89d2d47-1f7c-46b4-a66f-a59e4862584d",
   "metadata": {},
   "source": [
    "### Drop Duplicate Data"
   ]
  },
  {
   "cell_type": "code",
   "execution_count": 13,
   "id": "0222fcdd-be30-4f5b-bb8f-c1194ee59b2c",
   "metadata": {},
   "outputs": [
    {
     "name": "stderr",
     "output_type": "stream",
     "text": [
      "                                                                                \r"
     ]
    }
   ],
   "source": [
    "from pyspark.sql import SparkSession\n",
    "\n",
    "# Initialize Spark session\n",
    "spark = SparkSession.builder \\\n",
    "    .appName(\"SelectAndSaveToCSV\") \\\n",
    "    .getOrCreate()\n",
    "\n",
    "# Select specific columns\n",
    "selected_columns_df = df.select(\n",
    "    'annual_others_income',\n",
    "    'totalhouseholdincm',\n",
    "    'cust_age',\n",
    "    'category_occ',\n",
    "    'category_schm',\n",
    "    'annual_salary_income',\n",
    "    'employment_status',\n",
    "    'employersname',\n",
    "    'income_nature',\n",
    "    'riskrating',\n",
    "    'marital_status',\n",
    "    'annual_total_income',\n",
    "    'dis_amt',\n",
    "    'kyc_flag'\n",
    ")\n",
    "\n",
    "#selected_columns_df.show()\n",
    "\n",
    "selected_columns_df.write.csv('selected_data.csv', header=True, mode='overwrite')\n",
    "\n",
    "\n"
   ]
  },
  {
   "cell_type": "code",
   "execution_count": 14,
   "id": "f02f65f6-d0e0-49c9-8e00-758954122f0a",
   "metadata": {},
   "outputs": [],
   "source": [
    "# selected_columns_df.count()"
   ]
  },
  {
   "cell_type": "code",
   "execution_count": 15,
   "id": "15316c0d-26cd-4350-8ec4-405959726bbd",
   "metadata": {},
   "outputs": [
    {
     "name": "stderr",
     "output_type": "stream",
     "text": [
      "                                                                                \r"
     ]
    }
   ],
   "source": [
    "from pyspark.sql import SparkSession\n",
    "import pandas as pd\n",
    "\n",
    "# Initialize Spark session\n",
    "spark = SparkSession.builder \\\n",
    "    .appName(\"DropDuplicates\") \\\n",
    "    .getOrCreate()\n",
    "\n",
    "\n",
    "df = spark.read.csv('selected_data.csv', header=True, inferSchema=True)\n",
    "\n",
    "# Drop duplicate rows based on all columns\n",
    "df_no_duplicates = df.dropDuplicates()\n",
    "\n",
    "\n",
    "\n",
    "\n",
    "\n",
    "\n"
   ]
  },
  {
   "cell_type": "code",
   "execution_count": 16,
   "id": "be83104d-3a7b-40e6-9685-7e2b7f3afa17",
   "metadata": {},
   "outputs": [],
   "source": [
    "# df_no_duplicates.count()"
   ]
  },
  {
   "cell_type": "code",
   "execution_count": 17,
   "id": "3c85d6e5-e304-4812-87f6-aca43badf578",
   "metadata": {},
   "outputs": [
    {
     "name": "stderr",
     "output_type": "stream",
     "text": [
      "[Stage 59:=======>                                                  (1 + 7) / 8]\r"
     ]
    },
    {
     "name": "stdout",
     "output_type": "stream",
     "text": [
      "+--------------------+------------------+--------+------------+--------------------+--------------------+-----------------+-------------+-------------+----------+--------------+-------------------+----------+--------+\n",
      "|annual_others_income|totalhouseholdincm|cust_age|category_occ|       category_schm|annual_salary_income|employment_status|employersname|income_nature|riskrating|marital_status|annual_total_income|   dis_amt|kyc_flag|\n",
      "+--------------------+------------------+--------+------------+--------------------+--------------------+-----------------+-------------+-------------+----------+--------------+-------------------+----------+--------+\n",
      "|                 0.0|         1100000.0|      33|       SELFE|  HIRE PURCHASE LOAN|            500000.0|         Employed|SELF EMPLOYED|          001|       LOW|             M|          1100000.0| 828241.28|       1|\n",
      "|                null|              null|      39|       OTHER|STAFF HOUSING LOA...|                 1.0|            Other|         null|          001|    MEDIUM|             S|                1.0| 3900000.0|       1|\n",
      "|                null|              null|      34|       OTHER|STAFF HOUSING LOA...|                 1.0|            Other|         null|          001|       LOW|             S|                1.0| 1500000.0|       1|\n",
      "|                null|              null|      56|       OTHER|LOAN AGAINST PROP...|                 1.0|            Other|      FARMING|          001|    MEDIUM|             M|                1.0|3162835.58|       1|\n",
      "|                 0.0|         3000000.0|      47|       SELFE|LOAN AGAINST PROP...|            500000.0|         Employed|         null|          001|       LOW|             M|          3000000.0| 4900000.0|       1|\n",
      "+--------------------+------------------+--------+------------+--------------------+--------------------+-----------------+-------------+-------------+----------+--------------+-------------------+----------+--------+\n",
      "only showing top 5 rows\n",
      "\n"
     ]
    },
    {
     "name": "stderr",
     "output_type": "stream",
     "text": [
      "                                                                                \r"
     ]
    }
   ],
   "source": [
    "df_no_duplicates.show(5)"
   ]
  },
  {
   "cell_type": "code",
   "execution_count": 18,
   "id": "285bda22-28c9-4274-9dd6-665d8bfe994f",
   "metadata": {},
   "outputs": [],
   "source": [
    "selected_df=df_no_duplicates.fillna('Other')\n"
   ]
  },
  {
   "cell_type": "code",
   "execution_count": 33,
   "id": "8381f740-b64e-4c05-8d33-6fcb811a06c2",
   "metadata": {},
   "outputs": [],
   "source": [
    "data=selected_df.groupby('employment_status').count()\n",
    "#data.show()"
   ]
  },
  {
   "cell_type": "code",
   "execution_count": 20,
   "id": "ab45c60e-7cff-4003-921c-1032e324fc6d",
   "metadata": {},
   "outputs": [],
   "source": [
    "# from pyspark.sql import SparkSession\n",
    "\n",
    "# # Initialize Spark session\n",
    "# spark = SparkSession.builder \\\n",
    "#     .appName(\"UniqueCategories\") \\\n",
    "#     .getOrCreate()\n",
    "\n",
    "\n",
    "# # List of columns to find unique categories\n",
    "# columns_of_interest = [\n",
    "#     'totalhouseholdincm',\n",
    "#     'cust_age',\n",
    "#     'category_occ',\n",
    "#     'category_schm',\n",
    "#     'annual_salary_income',\n",
    "#     'employment_status',\n",
    "#     'employersname',\n",
    "#     'income_nature',\n",
    "#     'riskrating',\n",
    "#     'marital_status',\n",
    "#     'annual_total_income',\n",
    "#     'kyc_flag',\n",
    "#     'dis_amt'\n",
    "# ]\n",
    "\n",
    "# # Iterate through the columns and print unique values for each in descending order\n",
    "# for column in columns_of_interest:\n",
    "#     unique_values = selected_df.select(column).distinct().orderBy(column, ascending=False).rdd.flatMap(lambda x: x).collect()\n",
    "#     print(f\"Unique values in column '{column}' (sorted in descending order):\\n{unique_values}\\n\")"
   ]
  },
  {
   "cell_type": "markdown",
   "id": "81526f23-7a7e-4a27-8af6-e8f2bf2e9c3f",
   "metadata": {},
   "source": [
    "###  Remove '.' and '-' from employersname"
   ]
  },
  {
   "cell_type": "code",
   "execution_count": 21,
   "id": "0e39bf33-92c0-4788-8638-e8b574ff0102",
   "metadata": {},
   "outputs": [
    {
     "name": "stdout",
     "output_type": "stream",
     "text": [
      "+--------------------+------------------+--------+------------+--------------------+--------------------+-----------------+-------------+-------------+----------+--------------+-------------------+----------+--------+\n",
      "|annual_others_income|totalhouseholdincm|cust_age|category_occ|       category_schm|annual_salary_income|employment_status|employersname|income_nature|riskrating|marital_status|annual_total_income|   dis_amt|kyc_flag|\n",
      "+--------------------+------------------+--------+------------+--------------------+--------------------+-----------------+-------------+-------------+----------+--------------+-------------------+----------+--------+\n",
      "|                 0.0|         1100000.0|      33|       SELFE|  HIRE PURCHASE LOAN|            500000.0|         Employed|SELF EMPLOYED|          001|       LOW|             M|          1100000.0| 828241.28|       1|\n",
      "|                null|              null|      39|       OTHER|STAFF HOUSING LOA...|                 1.0|            Other|        Other|          001|    MEDIUM|             S|                1.0| 3900000.0|       1|\n",
      "|                null|              null|      34|       OTHER|STAFF HOUSING LOA...|                 1.0|            Other|        Other|          001|       LOW|             S|                1.0| 1500000.0|       1|\n",
      "|                null|              null|      56|       OTHER|LOAN AGAINST PROP...|                 1.0|            Other|      FARMING|          001|    MEDIUM|             M|                1.0|3162835.58|       1|\n",
      "|                 0.0|         3000000.0|      47|       SELFE|LOAN AGAINST PROP...|            500000.0|         Employed|        Other|          001|       LOW|             M|          3000000.0| 4900000.0|       1|\n",
      "+--------------------+------------------+--------+------------+--------------------+--------------------+-----------------+-------------+-------------+----------+--------------+-------------------+----------+--------+\n",
      "only showing top 5 rows\n",
      "\n"
     ]
    }
   ],
   "source": [
    "from pyspark.sql import SparkSession\n",
    "from pyspark.sql.functions import col, regexp_replace\n",
    "\n",
    "# Initialize SparkSession\n",
    "spark = SparkSession.builder \\\n",
    "    .appName(\"Clean Data\") \\\n",
    "    .getOrCreate()\n",
    "\n",
    "\n",
    "# Remove rows with None in specific columns\n",
    "cleaned_df = df.filter(\n",
    "    col(\"totalhouseholdincm\").isNotNull() & \n",
    "    col(\"annual_salary_income\").isNotNull()\n",
    ")\n",
    "\n",
    "# Remove '.' and '-' from employersname\n",
    "cleaned_df = selected_df.withColumn(\n",
    "    \"employersname\",\n",
    "    regexp_replace(col(\"employersname\"), \"[.-]\", \"\")\n",
    ")\n",
    "\n",
    "cleaned_df.show(5)\n"
   ]
  },
  {
   "cell_type": "code",
   "execution_count": 22,
   "id": "f1076684-89b5-45a3-9c9f-fdeee97e3741",
   "metadata": {},
   "outputs": [],
   "source": [
    "# from pyspark.sql import SparkSession\n",
    "\n",
    "# # Initialize Spark session\n",
    "# spark = SparkSession.builder \\\n",
    "#     .appName(\"UniqueCategories\") \\\n",
    "#     .getOrCreate()\n",
    "\n",
    "\n",
    "# # List of columns to find unique categories\n",
    "# columns_of_interest = [\n",
    "#     'totalhouseholdincm',\n",
    "#     'cust_age',\n",
    "#     'category_occ',\n",
    "#     'category_schm',\n",
    "#     'annual_salary_income',\n",
    "#     'employment_status',\n",
    "#     'employersname',\n",
    "#     'income_nature',\n",
    "#     'riskrating',\n",
    "#     'marital_status',\n",
    "#     'annual_total_income',\n",
    "#     'kyc_flag',\n",
    "#     'dis_amt'\n",
    "# ]\n",
    "\n",
    "# # Iterate through the columns and print unique values for each in descending order\n",
    "# for column in columns_of_interest:\n",
    "#     unique_values = cleaned_df.select(column).distinct().orderBy(column, ascending=False).rdd.flatMap(lambda x: x).collect()\n",
    "#     print(f\"Unique values in column '{column}' (sorted in descending order):\\n{unique_values}\\n\")"
   ]
  },
  {
   "cell_type": "markdown",
   "id": "b66dc4d4-c898-4fa0-bda7-1d56010b2a2b",
   "metadata": {},
   "source": [
    "### Change the datatypes in required format"
   ]
  },
  {
   "cell_type": "code",
   "execution_count": 23,
   "id": "37369bc3-7608-4127-a024-4d0e5a6ee337",
   "metadata": {},
   "outputs": [],
   "source": [
    "cleaned_df = selected_df.withColumn(\"dis_amt\", col(\"dis_amt\").cast(\"double\"))"
   ]
  },
  {
   "cell_type": "code",
   "execution_count": 24,
   "id": "19a70cac-ebf6-41d8-910c-247f68947885",
   "metadata": {},
   "outputs": [],
   "source": [
    "# cleaned_df.count() "
   ]
  },
  {
   "cell_type": "code",
   "execution_count": 25,
   "id": "1a972ca8-f2e6-4b15-b697-17da5bb377d5",
   "metadata": {},
   "outputs": [],
   "source": [
    "df = cleaned_df.na.drop(subset=[ 'totalhouseholdincm', 'cust_age', 'category_occ', 'category_schm',\n",
    "        'annual_salary_income', 'employment_status', 'employersname',\n",
    "        'income_nature', 'riskrating', 'marital_status', 'annual_total_income',\n",
    "        'kyc_flag', 'dis_amt'])"
   ]
  },
  {
   "cell_type": "markdown",
   "id": "b19b355f-3957-4067-b679-2fedf75d9ea2",
   "metadata": {},
   "source": [
    "### Removes rows where annual_salary_income, annual_total_income, or totalhouseholdincm contain values in scientific notation (e.g., 1.23E+05)"
   ]
  },
  {
   "cell_type": "code",
   "execution_count": 26,
   "id": "c2e01fb0-0d70-40c0-9010-e06cca6be0d0",
   "metadata": {},
   "outputs": [],
   "source": [
    "df = df.filter(~df.annual_salary_income.rlike(r'[0-9\\.]+E[+-]?[0-9]+'))\n",
    "df = df.filter(~when(df.annual_total_income == 1, True).otherwise(False))\n",
    "df = df.filter(~when(df.totalhouseholdincm == 1, True).otherwise(False))\n",
    "df = df.filter(~df.annual_total_income.rlike(r'[0-9\\.]+E[+-]?[0-9]+'))\n",
    "df = df.filter(~df.totalhouseholdincm.rlike(r'[0-9\\.]+E[+-]?[0-9]+'))"
   ]
  },
  {
   "cell_type": "markdown",
   "id": "5d18765c-25c1-4c4b-8824-83be8563b0c0",
   "metadata": {},
   "source": [
    "### convert categorical data into categorical values using stringindexer('cust_age', 'category_occ', 'category_schm','employment_status','income_nature', 'riskrating', 'marital_status', 'kyc_flag')"
   ]
  },
  {
   "cell_type": "code",
   "execution_count": 27,
   "id": "a13e0f94-1eba-46b2-98a6-2055718b4de1",
   "metadata": {},
   "outputs": [
    {
     "name": "stderr",
     "output_type": "stream",
     "text": [
      "[Stage 77:=======>                                                  (1 + 7) / 8]\r"
     ]
    },
    {
     "name": "stdout",
     "output_type": "stream",
     "text": [
      "+--------------------+------------------+--------+--------------+------------+------------------+--------------------+-------------------+--------------------+-----------------+-----------------------+-------------+-------------+-------------------+----------+----------------+--------------+--------------------+-------------------+----------+--------+--------------+\n",
      "|annual_others_income|totalhouseholdincm|cust_age|cust_age_index|category_occ|category_occ_index|       category_schm|category_schm_index|annual_salary_income|employment_status|employment_status_index|employersname|income_nature|income_nature_index|riskrating|riskrating_index|marital_status|marital_status_index|annual_total_income|   dis_amt|kyc_flag|kyc_flag_index|\n",
      "+--------------------+------------------+--------+--------------+------------+------------------+--------------------+-------------------+--------------------+-----------------+-----------------------+-------------+-------------+-------------------+----------+----------------+--------------+--------------------+-------------------+----------+--------+--------------+\n",
      "|                 0.0|         1100000.0|      33|          23.0|       SELFE|               4.0|  HIRE PURCHASE LOAN|                6.0|            500000.0|         Employed|                    0.0|SELF EMPLOYED|          001|                0.0|       LOW|             1.0|             M|                 0.0|          1100000.0| 828241.28|       1|           0.0|\n",
      "|                 0.0|         3000000.0|      47|           9.0|       SELFE|               4.0|LOAN AGAINST PROP...|                0.0|            500000.0|         Employed|                    0.0|        Other|          001|                0.0|       LOW|             1.0|             M|                 0.0|          3000000.0| 4900000.0|       1|           0.0|\n",
      "|                 0.0|          400000.0|      52|          10.0|        HMMK|               3.0|    LOAN AGAINST FDR|                3.0|            100000.0|        Housewife|                    3.0|        Other|          001|                0.0|       LOW|             1.0|             M|                 0.0|           400000.0|  450000.0|       1|           0.0|\n",
      "|                 0.0|         1100000.0|      55|          20.0|        HMMK|               3.0|    LOAN AGAINST FDR|                3.0|            100000.0|        Housewife|                    3.0|        Other|          001|                0.0|    MEDIUM|             0.0|             M|                 0.0|          1100000.0| 2300000.0|       0|           1.0|\n",
      "|                 0.0|         5000000.0|      49|          15.0|        AGRI|               0.0|  HIRE PURCHASE LOAN|                6.0|           1500000.0|            Other|                    1.0|        Other|          001|                0.0|    MEDIUM|             0.0|             M|                 0.0|          5000000.0|1358141.55|       1|           0.0|\n",
      "+--------------------+------------------+--------+--------------+------------+------------------+--------------------+-------------------+--------------------+-----------------+-----------------------+-------------+-------------+-------------------+----------+----------------+--------------+--------------------+-------------------+----------+--------+--------------+\n",
      "only showing top 5 rows\n",
      "\n"
     ]
    },
    {
     "name": "stderr",
     "output_type": "stream",
     "text": [
      "                                                                                \r"
     ]
    }
   ],
   "source": [
    "from pyspark.sql import SparkSession\n",
    "from pyspark.ml.feature import StringIndexer\n",
    "from pyspark.sql.functions import col\n",
    "\n",
    "# Create a SparkSession\n",
    "spark = SparkSession.builder \\\n",
    "    .appName(\"StringIndexer Example\") \\\n",
    "    .getOrCreate()\n",
    "\n",
    "\n",
    "# Apply StringIndexer\n",
    "indexer = StringIndexer(\n",
    "    inputCols=[\n",
    "         'cust_age', 'category_occ', 'category_schm',\n",
    "        'employment_status', \n",
    "        'income_nature', 'riskrating', 'marital_status', \n",
    "        'kyc_flag'\n",
    "    ],\n",
    "    outputCols=[\n",
    "        'cust_age_index', 'category_occ_index', 'category_schm_index',\n",
    " 'employment_status_index', \n",
    "        'income_nature_index', 'riskrating_index', 'marital_status_index', \n",
    "        'kyc_flag_index'\n",
    "    ]\n",
    ").fit(df)\n",
    "# Transform the DataFrame\n",
    "indexed_df = indexer.transform(df)\n",
    "\n",
    "# Rearrange columns to place indexed columns next to their original columns\n",
    "final_columns = []\n",
    "for col_name in df.columns:\n",
    "    final_columns.append(col_name)\n",
    "    if col_name in indexer.getInputCols():\n",
    "        final_columns.append(col_name + \"_index\")\n",
    "\n",
    "# Select the columns in the desired order\n",
    "indexed_df = indexed_df.select(final_columns)\n",
    "indexed_df.show(5)\n"
   ]
  },
  {
   "cell_type": "markdown",
   "id": "3da9316a-41ed-4df9-8fda-caec52720cd8",
   "metadata": {},
   "source": [
    "\n",
    "## 2 . Elbow Method: The elbow method helps identify the optimal k by plotting the WCSS against the number of clusters. The point where the WCSS starts to decrease more slowly (forming an elbow shape) suggests the optimal k value where adding more clusters does not significantly reduce WCSS.\n",
    "### Understanding the Elbow Method:\n",
    "### WCSS (Within-Cluster Sum of Squares): It is a measure of the total variance within each cluster. As the number of clusters increases, WCSS typically decreases as clusters become smaller and more specific.\n",
    "### Number of Clusters (k): This is the number of clusters the data points are divided into\n",
    "### Interpreting the Graph:\n",
    " ### Left of the Elbow (2-3 clusters): Significant decrease in WCSS, indicating that adding clusters improves the model significantly.\n",
    " ### At the Elbow (around 3 clusters): The point where the rate of decrease sharply slows down.\n",
    " ### Right of the Elbow (4-9 clusters): WCSS continues to decrease but at a much slower rate, indicating diminishing returns with the addition of more clusters.\n",
    "\n",
    "### The Elbow Method graph helps in choosing the optimal number of clusters by looking for the point where the reduction in WCSS slows down noticeably, forming an \"elbow\" shape. In this case, the optimal number of clusters appears to be around 3."
   ]
  },
  {
   "cell_type": "code",
   "execution_count": 28,
   "id": "208fd607-67d5-4820-ad7d-0d0d822cdb3c",
   "metadata": {},
   "outputs": [
    {
     "name": "stderr",
     "output_type": "stream",
     "text": [
      "                                                                                \r"
     ]
    },
    {
     "data": {
      "image/png": "[encoded data removed]",
      "text/plain": [
       "<Figure size 1000x800 with 1 Axes>"
      ]
     },
     "metadata": {},
     "output_type": "display_data"
    }
   ],
   "source": [
    "from pyspark.sql import SparkSession\n",
    "from pyspark.ml.feature import VectorAssembler, StandardScaler\n",
    "from pyspark.ml.clustering import KMeans\n",
    "import matplotlib.pyplot as plt\n",
    "\n",
    "# Initialize Spark session\n",
    "spark = SparkSession.builder.appName(\"KMeans Elbow Method\").getOrCreate()\n",
    "\n",
    "\n",
    "\n",
    "# Specify numerical and categorical columns\n",
    "numerical_cols = [\n",
    "    'annual_others_income',\n",
    " 'totalhouseholdincm',\n",
    " 'annual_salary_income',\n",
    " 'annual_total_income',\n",
    " 'dis_amt',\n",
    " 'kyc_flag',\n",
    "]\n",
    "\n",
    "categorical_cols = [\n",
    "\n",
    "'cust_age_index','category_occ_index', 'category_schm_index','employment_status_index','income_nature_index', 'riskrating_index','marital_status_index', 'kyc_flag'\n",
    "]\n",
    "\n",
    "# Assemble numerical columns into a feature vector\n",
    "assembler_num = VectorAssembler(inputCols=numerical_cols, outputCol=\"numerical_features\")\n",
    "assembled_data_num = assembler_num.transform(indexed_df)\n",
    "\n",
    "# Scale the numerical features\n",
    "scaler = StandardScaler(inputCol=\"numerical_features\", outputCol=\"scaled_numerical_features\")\n",
    "scaler_model = scaler.fit(assembled_data_num)\n",
    "scaled_data_num = scaler_model.transform(assembled_data_num)\n",
    "\n",
    "# Combine scaled numerical features with categorical features\n",
    "assembler_all = VectorAssembler(inputCols=['scaled_numerical_features'] + categorical_cols, outputCol=\"features\")\n",
    "final_data = assembler_all.transform(scaled_data_num)\n",
    "\n",
    "# Elbow method to find the optimal number of clusters\n",
    "wcss = []\n",
    "k_values = range(2, 10)  # Start k from 2 instead of 1\n",
    "\n",
    "for k in k_values:\n",
    "    kmeans = KMeans(k=k, seed=42, featuresCol='features')\n",
    "    model = kmeans.fit(final_data)\n",
    "    wcss.append(model.summary.trainingCost)\n",
    "\n",
    "# Plot the elbow method graph\n",
    "plt.figure(figsize=(10, 8))\n",
    "plt.plot(k_values, wcss, marker='o', linestyle='--')\n",
    "plt.title('Elbow Method For Optimal k')\n",
    "plt.xlabel('Number of Clusters')\n",
    "plt.ylabel('WCSS')\n",
    "plt.xticks(k_values)\n",
    "plt.grid(True)\n",
    "plt.show()\n"
   ]
  },
  {
   "cell_type": "markdown",
   "id": "8edd16ac-5dde-4253-b3ff-bd40710e3c54",
   "metadata": {},
   "source": [
    "# Input variable Used"
   ]
  },
  {
   "cell_type": "code",
   "execution_count": 39,
   "id": "636ab7cb-78c8-4cb1-9c76-1dd3ec8b6ee8",
   "metadata": {},
   "outputs": [
    {
     "name": "stdout",
     "output_type": "stream",
     "text": [
      "+--------------------+------------------+--------+------------------+-------------------+--------------------+-----------------------+-------------+-------------------+----------------+--------------------+-------------------+----------+--------+\n",
      "|annual_others_income|totalhouseholdincm|cust_age|category_occ_index|category_schm_index|annual_salary_income|employment_status_index|employersname|income_nature_index|riskrating_index|marital_status_index|annual_total_income|   dis_amt|kyc_flag|\n",
      "+--------------------+------------------+--------+------------------+-------------------+--------------------+-----------------------+-------------+-------------------+----------------+--------------------+-------------------+----------+--------+\n",
      "|                 0.0|         1100000.0|      33|               4.0|                6.0|            500000.0|                    0.0|SELF EMPLOYED|                0.0|             1.0|                 0.0|          1100000.0| 828241.28|       1|\n",
      "|                 0.0|         3000000.0|      47|               4.0|                0.0|            500000.0|                    0.0|        Other|                0.0|             1.0|                 0.0|          3000000.0| 4900000.0|       1|\n",
      "|                 0.0|          400000.0|      52|               3.0|                3.0|            100000.0|                    3.0|        Other|                0.0|             1.0|                 0.0|           400000.0|  450000.0|       1|\n",
      "|                 0.0|         1100000.0|      55|               3.0|                3.0|            100000.0|                    3.0|        Other|                0.0|             0.0|                 0.0|          1100000.0| 2300000.0|       0|\n",
      "|                 0.0|         5000000.0|      49|               0.0|                6.0|           1500000.0|                    1.0|        Other|                0.0|             0.0|                 0.0|          5000000.0|1358141.55|       1|\n",
      "+--------------------+------------------+--------+------------------+-------------------+--------------------+-----------------------+-------------+-------------------+----------------+--------------------+-------------------+----------+--------+\n",
      "only showing top 5 rows\n",
      "\n"
     ]
    }
   ],
   "source": [
    "indexed_df.select('annual_others_income',\n",
    " 'totalhouseholdincm',\n",
    " 'cust_age',\n",
    " 'category_occ_index',\n",
    " 'category_schm_index',\n",
    " 'annual_salary_income',\n",
    " 'employment_status_index',\n",
    " 'employersname',\n",
    " 'income_nature_index',\n",
    " 'riskrating_index',\n",
    " 'marital_status_index',\n",
    " 'annual_total_income',\n",
    " 'dis_amt',\n",
    " 'kyc_flag',\n",
    " ).show(5)"
   ]
  },
  {
   "cell_type": "markdown",
   "id": "9cbbd8b6-893c-4059-9c1a-9a0eb9e50889",
   "metadata": {},
   "source": [
    "## **Model Preperation:**\n",
    " \n",
    "### **1: VectorAssembler to transform feature columns into a single vector column named \"features\".**\n",
    "### **2: Data Normalization:**\n",
    "   ### Data normalization is a preprocessing step used to rescale feature values to a common range, typically [0, 1] or [-1, 1]\n",
    "### **3: Splitting the data into 80% training and 20% testing sets.**\n",
    "### **4: Principal Component Analysis (PCA) :**\n",
    "  ### Reduce the dimensionality of a dataset\n",
    "### **5: Model:**\n",
    "### K-means Clustering\n",
    "### **6: Number of clusters (k): 3**"
   ]
  },
  {
   "cell_type": "code",
   "execution_count": 41,
   "id": "0864fcd9-3556-41bf-a40d-6316418fed3a",
   "metadata": {},
   "outputs": [
    {
     "name": "stderr",
     "output_type": "stream",
     "text": [
      "                                                                                \r"
     ]
    }
   ],
   "source": [
    "from pyspark.ml.clustering import KMeans\n",
    "from pyspark.ml.evaluation import ClusteringEvaluator\n",
    "from pyspark.sql import SparkSession\n",
    "from pyspark.ml.feature import VectorAssembler, StandardScaler, PCA\n",
    "from pyspark.sql.functions import rand\n",
    "\n",
    "\n",
    "# Create a SparkSession\n",
    "spark = SparkSession.builder.appName(\"Customer_segmentation\").getOrCreate()\n",
    "\n",
    "\n",
    "# List of numerical and categorical feature columns\n",
    "numerical_cols = [ 'annual_others_income',\n",
    " 'totalhouseholdincm',\n",
    " 'annual_salary_income',\n",
    " 'annual_total_income',\n",
    " 'dis_amt']\n",
    "categorical_cols = ['cust_age_index','category_occ_index', 'category_schm_index','employment_status_index','income_nature_index', 'riskrating_index','marital_status_index', 'kyc_flag']\n",
    "\n",
    "# Assemble the numerical features\n",
    "assembler_num = VectorAssembler(inputCols=numerical_cols, outputCol=\"numerical_features\")\n",
    "assembled_data_num = assembler_num.transform(indexed_df)\n",
    "\n",
    "# Normalize the numerical features\n",
    "scaler = StandardScaler(inputCol=\"numerical_features\", outputCol=\"scaled_numerical_features\", withStd=True, withMean=False)\n",
    "scaler_model = scaler.fit(assembled_data_num)\n",
    "scaled_data_num = scaler_model.transform(assembled_data_num)\n",
    "\n",
    "# Combine the scaled numerical features with categorical features\n",
    "assembler_all = VectorAssembler(inputCols=['scaled_numerical_features'] + categorical_cols, outputCol=\"features\")\n",
    "final_data = assembler_all.transform(scaled_data_num)\n",
    "\n",
    "# Split the data into training and testing sets\n",
    "final_data = final_data.withColumn(\"rand\", rand())\n",
    "final_data = final_data.orderBy(\"rand\")\n",
    "training_data, test_data = final_data.randomSplit([0.7, 0.3], seed=42)\n",
    "\n",
    "# Apply PCA for dimensionality reduction\n",
    "pca = PCA(k=2, inputCol=\"features\", outputCol=\"pca_features\")\n",
    "pca_model = pca.fit(training_data)\n",
    "training_data_pca = pca_model.transform(training_data)\n",
    "test_data_pca = pca_model.transform(test_data)\n",
    "\n",
    "# Train the K-Means model on the PCA-transformed data\n",
    "kmeans = KMeans(k=3, featuresCol=\"pca_features\", predictionCol=\"cluster\")\n",
    "kmeans_model = kmeans.fit(training_data_pca)\n",
    "\n"
   ]
  },
  {
   "cell_type": "markdown",
   "id": "a68a2a10-da77-40d9-aa83-81e63e1f6952",
   "metadata": {},
   "source": [
    "# Prediction Part"
   ]
  },
  {
   "cell_type": "code",
   "execution_count": 40,
   "id": "a1cf2fea-d8c5-481f-aa80-97259c7cc01c",
   "metadata": {},
   "outputs": [
    {
     "name": "stderr",
     "output_type": "stream",
     "text": [
      "[Stage 718:=================================================>       (7 + 1) / 8]\r"
     ]
    },
    {
     "name": "stdout",
     "output_type": "stream",
     "text": [
      "+-------------------------+--------------------+--------------------+-------+\n",
      "|scaled_numerical_features|            features|        pca_features|cluster|\n",
      "+-------------------------+--------------------+--------------------+-------+\n",
      "|     [0.0,1.3486479813...|[0.0,1.3486479813...|[32.0795135498149...|      2|\n",
      "|     [0.0,1.3486479813...|[0.0,1.3486479813...|[18.0764796201206...|      0|\n",
      "|     [0.0,1.3486479813...|[0.0,1.3486479813...|[13.0603446511827...|      0|\n",
      "|     [0.0,1.3486479813...|[0.0,1.3486479813...|[13.1028899643870...|      0|\n",
      "|     [0.0,1.3486479813...|[0.0,1.3486479813...|[12.1222441386587...|      1|\n",
      "|     [0.0,1.3486479813...|[0.0,1.3486479813...|[8.07186341387893...|      1|\n",
      "|     [0.0,1.3486479813...|[0.0,1.3486479813...|[8.10292100983465...|      1|\n",
      "|     [0.0,1.3486479813...|[0.0,1.3486479813...|[11.1081414416708...|      1|\n",
      "|     [0.0,1.3486479813...|[0.0,1.3486479813...|[11.1138670789688...|      1|\n",
      "|     [0.0,1.3486479813...|[0.0,1.3486479813...|[3.09904832660137...|      1|\n",
      "|     [0.0,1.3486479813...|[0.0,1.3486479813...|[3.09856965985609...|      1|\n",
      "|     [0.0,1.3486479813...|[0.0,1.3486479813...|[3.11488114345630...|      1|\n",
      "|     [0.0,1.3486479813...|[0.0,1.3486479813...|[2.06256878785381...|      1|\n",
      "|     [0.0,1.3486479813...|[0.0,1.3486479813...|[2.06218470410306...|      1|\n",
      "|     [0.0,1.3486479813...|[0.0,1.3486479813...|[2.09406381846647...|      1|\n",
      "|     [0.0,1.3486479813...|[0.0,1.3486479813...|[2.10913450045995...|      1|\n",
      "|     [0.0,1.3486479813...|[0.0,1.3486479813...|[2.10849827551975...|      1|\n",
      "|     [0.0,1.3486479813...|[0.0,1.3486479813...|[7.06315888858283...|      1|\n",
      "|     [0.0,1.3486479813...|[0.0,1.3486479813...|[0.10937322827483...|      1|\n",
      "|     [0.0,1.3486479813...|[0.0,1.3486479813...|[4.06187801250831...|      1|\n",
      "+-------------------------+--------------------+--------------------+-------+\n",
      "only showing top 20 rows\n",
      "\n"
     ]
    },
    {
     "name": "stderr",
     "output_type": "stream",
     "text": [
      "                                                                                \r"
     ]
    }
   ],
   "source": [
    "# Use the model for predictions on the PCA-transformed test data\n",
    "predictions = kmeans_model.transform(test_data_pca)\n",
    "\n",
    "# Show some predictions\n",
    "predictions.select('scaled_numerical_features','features','pca_features', 'cluster').show()"
   ]
  },
  {
   "cell_type": "markdown",
   "id": "90facdfb-ac6d-4e11-a204-ec3c27533065",
   "metadata": {},
   "source": [
    "### Use Spark SQL to count the occurrences of each unique value in the 'cluster' column"
   ]
  },
  {
   "cell_type": "code",
   "execution_count": 30,
   "id": "d0d4fea9-4357-4311-b0dd-bb7728ce3d10",
   "metadata": {},
   "outputs": [
    {
     "name": "stdout",
     "output_type": "stream",
     "text": [
      "+-------+-----+\n",
      "|cluster|count|\n",
      "+-------+-----+\n",
      "|      1| 3897|\n",
      "|      2| 1593|\n",
      "|      0| 3355|\n",
      "+-------+-----+\n",
      "\n"
     ]
    }
   ],
   "source": [
    "# Register the DataFrame as a temporary view\n",
    "predictions.createOrReplaceTempView(\"predictions\")\n",
    "\n",
    "# Use Spark SQL to count the occurrences of each unique value in the 'cluster' column\n",
    "unique_counts = spark.sql(\"SELECT cluster, COUNT(*) AS count FROM predictions GROUP BY cluster\")\n",
    "\n",
    "# Show the result\n",
    "unique_counts.show()"
   ]
  },
  {
   "cell_type": "markdown",
   "id": "f8712f58-b0fc-4e06-8fa6-197c568522e6",
   "metadata": {},
   "source": [
    "## **Model Evaluation**\n",
    "### A higher silhouette score indicates better-defined clusters, with points in the same cluster being more similar to each other than to points in other clusters.A silhouette score of 0.69 indicates that the clustering model has achieved a reasonably good separation between clusters. Here’s what the silhouette score generally signifies:\n"
   ]
  },
  {
   "cell_type": "code",
   "execution_count": 31,
   "id": "e67c0dfd-e9f3-4751-84ec-d7acc8aa8010",
   "metadata": {},
   "outputs": [
    {
     "name": "stdout",
     "output_type": "stream",
     "text": [
      "Silhouette Score: 0.684522623318644\n"
     ]
    }
   ],
   "source": [
    "from pyspark.ml.evaluation import ClusteringEvaluator\n",
    "\n",
    "# Evaluate the model using silhouette score\n",
    "evaluator = ClusteringEvaluator(predictionCol=\"cluster\", featuresCol=\"pca_features\", metricName=\"silhouette\")\n",
    "silhouette_score = evaluator.evaluate(predictions)\n",
    "\n",
    "print(\"Silhouette Score:\", silhouette_score)"
   ]
  },
  {
   "cell_type": "markdown",
   "id": "a03e0885-0c2d-4a2b-a1d1-144137e155aa",
   "metadata": {},
   "source": [
    "### Visualization of Cluster with Centroid"
   ]
  },
  {
   "cell_type": "code",
   "execution_count": 32,
   "id": "3172ca56-7c11-4c07-acc1-cded56d47368",
   "metadata": {},
   "outputs": [
    {
     "data": {
      "image/png": "[encoded data removed]",
      "text/plain": [
       "<Figure size 1000x800 with 1 Axes>"
      ]
     },
     "metadata": {},
     "output_type": "display_data"
    }
   ],
   "source": [
    "import numpy as np\n",
    "\n",
    "# Extract features and cluster assignments from predictions DataFrame\n",
    "features = predictions.select(\"pca_features\").collect()\n",
    "clusters = predictions.select(\"cluster\").collect()\n",
    "\n",
    "x_values = [feature[0][0] for feature in features]\n",
    "y_values = [feature[0][1] for feature in features]\n",
    "\n",
    "plt.figure(figsize=(10, 8))\n",
    "for i in range(3):\n",
    "    cluster_x = [x_values[j] for j in range(len(clusters)) if clusters[j][0] == i]\n",
    "    cluster_y = [y_values[j] for j in range(len(clusters)) if clusters[j][0] == i]\n",
    "    plt.scatter(cluster_x, cluster_y, label=f'Cluster {i}')\n",
    "\n",
    "    # Compute the centroid of the current cluster\n",
    "    centroid_x = np.mean(cluster_x)\n",
    "    centroid_y = np.mean(cluster_y)\n",
    "    plt.scatter(centroid_x, centroid_y, color='black', marker='x', s=200)  # Mark centroid with a black 'x'\n",
    "\n",
    "    # Annotate the centroid with its cluster number\n",
    "    plt.annotate(f'Centroid {i}', (centroid_x, centroid_y), textcoords=\"offset points\", xytext=(-10,10), ha='center')\n",
    "\n",
    "plt.title('Visualization of Clusters with Centroids')\n",
    "plt.xlabel('X-axis')\n",
    "plt.ylabel('Y-axis')\n",
    "plt.legend()\n",
    "plt.grid(True)\n",
    "plt.show()\n"
   ]
  },
  {
   "cell_type": "markdown",
   "id": "d9b1ed0a-cfa4-429b-8125-dfdb0b37f30b",
   "metadata": {},
   "source": [
    "### **EDA: Calculates the mean of numerical features and the mode (most frequent value) of categorical features for each cluster.**"
   ]
  },
  {
   "cell_type": "code",
   "execution_count": 44,
   "id": "910c1358-ce39-4f27-b980-7c354aa706ac",
   "metadata": {},
   "outputs": [
    {
     "name": "stderr",
     "output_type": "stream",
     "text": [
      "                                                                                \r"
     ]
    },
    {
     "name": "stdout",
     "output_type": "stream",
     "text": [
      "+----------+-------------------------+-----------------------+-------------------------+------------------------+------------------+\n",
      "|prediction|mean_annual_others_income|mean_totalhouseholdincm|mean_annual_salary_income|mean_annual_total_income|      mean_dis_amt|\n",
      "+----------+-------------------------+-----------------------+-------------------------+------------------------+------------------+\n",
      "|         1|         8.00640512409928|       969040.224723779|       316112.64173859084|        969044.227926341|1600268.9964907924|\n",
      "|         2|                1500000.0|              3011000.0|                  11000.0|               3011000.0|         706916.79|\n",
      "|         0|                      0.0|     4081737.8591170823|       1249638.9990710171|      4081737.8591170823|3520139.3628925183|\n",
      "+----------+-------------------------+-----------------------+-------------------------+------------------------+------------------+\n",
      "\n",
      "+----------+-------------------+\n",
      "|prediction|mode_cust_age_index|\n",
      "+----------+-------------------+\n",
      "|         1|                0.0|\n",
      "|         2|               11.0|\n",
      "|         0|                0.0|\n",
      "+----------+-------------------+\n",
      "\n",
      "+----------+-----------------------+\n",
      "|prediction|mode_category_occ_index|\n",
      "+----------+-----------------------+\n",
      "|         1|                    0.0|\n",
      "|         2|                    0.0|\n",
      "|         0|                    2.0|\n",
      "+----------+-----------------------+\n",
      "\n",
      "+----------+------------------------+\n",
      "|prediction|mode_category_schm_index|\n",
      "+----------+------------------------+\n",
      "|         1|                     0.0|\n",
      "|         2|                     1.0|\n",
      "|         0|                     2.0|\n",
      "+----------+------------------------+\n",
      "\n",
      "+----------+----------------------------+\n",
      "|prediction|mode_employment_status_index|\n",
      "+----------+----------------------------+\n",
      "|         1|                         0.0|\n",
      "|         2|                         3.0|\n",
      "|         0|                         0.0|\n",
      "+----------+----------------------------+\n",
      "\n"
     ]
    },
    {
     "name": "stderr",
     "output_type": "stream",
     "text": [
      "                                                                                \r"
     ]
    },
    {
     "name": "stdout",
     "output_type": "stream",
     "text": [
      "+----------+------------------------+\n",
      "|prediction|mode_income_nature_index|\n",
      "+----------+------------------------+\n",
      "|         1|                     0.0|\n",
      "|         2|                     1.0|\n",
      "|         0|                     0.0|\n",
      "+----------+------------------------+\n",
      "\n",
      "+----------+---------------------+\n",
      "|prediction|mode_riskrating_index|\n",
      "+----------+---------------------+\n",
      "|         1|                  0.0|\n",
      "|         2|                  1.0|\n",
      "|         0|                  0.0|\n",
      "+----------+---------------------+\n",
      "\n",
      "+----------+-------------------------+\n",
      "|prediction|mode_marital_status_index|\n",
      "+----------+-------------------------+\n",
      "|         1|                      0.0|\n",
      "|         2|                      0.0|\n",
      "|         0|                      0.0|\n",
      "+----------+-------------------------+\n",
      "\n",
      "+----------+-------------+\n",
      "|prediction|mode_kyc_flag|\n",
      "+----------+-------------+\n",
      "|         1|            1|\n",
      "|         2|            0|\n",
      "|         0|            0|\n",
      "+----------+-------------+\n",
      "\n"
     ]
    }
   ],
   "source": [
    "from pyspark.sql import SparkSession\n",
    "from pyspark.ml.feature import VectorAssembler, StandardScaler\n",
    "from pyspark.ml.clustering import KMeans\n",
    "from pyspark.sql.functions import col, count, desc, mean, first\n",
    " \n",
    "# Initialize Spark session\n",
    "spark = SparkSession.builder.appName(\"KMeans Clustering Mean and Mode\").getOrCreate()\n",
    " \n",
    " \n",
    "\n",
    " \n",
    "# Specify the input columns\n",
    "input_columns = [\n",
    "    'cust_age_index','category_occ_index', 'category_schm_index','employment_status_index','income_nature_index', 'riskrating_index','marital_status_index', 'kyc_flag',\n",
    "    'annual_others_income',\n",
    " 'totalhouseholdincm',\n",
    " 'annual_salary_income',\n",
    " 'annual_total_income',\n",
    " 'dis_amt'\n",
    " \n",
    "]\n",
    " \n",
    "# Assemble input columns into a feature vector\n",
    "assembler = VectorAssembler(inputCols=input_columns, outputCol=\"features\")\n",
    "assembled_data = assembler.transform(indexed_df)\n",
    " \n",
    "# Scale the data\n",
    "scaler = StandardScaler(inputCol=\"features\", outputCol=\"scaled_features\")\n",
    "scaler_model = scaler.fit(assembled_data)\n",
    "scaled_data = scaler_model.transform(assembled_data)\n",
    " \n",
    "# Apply K-means clustering\n",
    "kmeans = KMeans(k=3, seed=42, featuresCol='scaled_features')\n",
    "model = kmeans.fit(scaled_data)\n",
    "predictions = model.transform(scaled_data)\n",
    " \n",
    "# Select numerical and categorical columns\n",
    "numerical_columns = [\n",
    " 'annual_others_income',\n",
    " 'totalhouseholdincm',\n",
    " 'annual_salary_income',\n",
    " 'annual_total_income',\n",
    " 'dis_amt',]\n",
    "categorical_columns = [\n",
    "  'cust_age_index','category_occ_index', 'category_schm_index','employment_status_index','income_nature_index', 'riskrating_index','marital_status_index', 'kyc_flag'  \n",
    "]\n",
    " \n",
    "# Calculate mean for numerical columns within each cluster\n",
    "mean_df = predictions.groupBy(\"prediction\").agg(\n",
    "    *[mean(col).alias(f'mean_{col}') for col in numerical_columns]\n",
    ")\n",
    " \n",
    "# Show mean results\n",
    "mean_df.show()\n",
    " \n",
    "# Calculate mode for categorical columns within each cluster\n",
    "for col_name in categorical_columns:\n",
    "    mode_df = predictions.groupBy(\"prediction\", col_name).agg(count(col_name).alias('count')) \\\n",
    "        .orderBy('prediction', desc('count')) \\\n",
    "        .groupBy(\"prediction\") \\\n",
    "        .agg(first(col_name).alias(f'mode_{col_name}'))\n",
    " \n",
    "    # Show mode results\n",
    "    mode_df.show()\n",
    " \n",
    "# Merge mean and mode results\n",
    "result_df = mean_df\n",
    "for col_name in categorical_columns:\n",
    "    mode_df = predictions.groupBy(\"prediction\", col_name).agg(count(col_name).alias('count')) \\\n",
    "        .orderBy('prediction', desc('count')) \\\n",
    "        .groupBy(\"prediction\") \\\n",
    "        .agg(first(col_name).alias(f'mode_{col_name}'))\n",
    " \n",
    "    result_df = result_df.join(mode_df, on=\"prediction\")\n",
    " \n",
    "# Show final result\n",
    "#result_df.show()"
   ]
  },
  {
   "cell_type": "markdown",
   "id": "88e7d988-f6ef-43b3-9a0b-d44cba8705bf",
   "metadata": {},
   "source": [
    "## **Business Translation**\n",
    " \n",
    "### **1: For Marketing:**\n",
    "   #### Tailor ads to match the interests and preferences of each customer group.\n",
    "### **2: For Product Development:**\n",
    "   #### Create or modify products to better meet the needs of each segment.\n",
    "### **3: For Risk Management:**\n",
    " #### Identify which groups might be risky and adjust lending policies accordingly.\n",
    "### **4: For Customer Service:**\n",
    " #### Provide the best services for each group, making banking easier and more enjoyable for everyone."
   ]
  },
  {
   "cell_type": "code",
   "execution_count": null,
   "id": "891463b0-796d-4a98-8934-d4e17339ac2c",
   "metadata": {},
   "outputs": [],
   "source": []
  }
 ],
 "metadata": {
  "kernelspec": {
   "display_name": "Python 3 (ipykernel)",
   "language": "python",
   "name": "python3"
  },
  "language_info": {
   "codemirror_mode": {
    "name": "ipython",
    "version": 3
   },
   "file_extension": ".py",
   "mimetype": "text/x-python",
   "name": "python",
   "nbconvert_exporter": "python",
   "pygments_lexer": "ipython3",
   "version": "3.10.14"
  },
  "widgets": {
   "application/vnd.jupyter.widget-state+json": {
    "state": {},
    "version_major": 2,
    "version_minor": 0
   }
  }
 },
 "nbformat": 4,
 "nbformat_minor": 5
}
